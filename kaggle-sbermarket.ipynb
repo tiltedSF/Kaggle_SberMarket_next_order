{
 "cells": [
  {
   "cell_type": "markdown",
   "metadata": {},
   "source": [
    "Сервисы доставки еды уже давно перестали быть просто курьерами, которые привозят заказ. Индустрия e-grocery стремительно идет к аккумулированию и использованию больших данных, чтобы знать о своих пользователях больше и предоставлять более качественные и персонализированные услуги. Одним из шагов к такой персонализации может быть разработка модели, которая понимает привычки и нужды пользователя, и, к примеру, может угадать, что и когда пользователь захочет заказать в следующий раз.\n",
    "\n",
    "Такая модель, будучи разработанной, может принести значительную ценность для клиента - сэкономить время при сборке корзины, помочь ничего не забыть в заказе, убрать необходимость планировать закупки и следить за заканчивающимися запасами продуктов.\n",
    "\n",
    "В данном соревновании участникам предлагается решить задачу предсказания следующего заказа пользователя (безотносительно конкретного момента времени, когда этот заказ произойдет). Заказ пользователя состоит из списка уникальных категорий товаров, вне зависимости от того, сколько продуктов каждой категории он взял.\n",
    "# Цель: \n",
    "Построить модель, которая будет способна предложить пользователю товар, на основе его предыдущих покупок\n",
    "# Метрика:\n",
    "F1 score: $ F1 = 2{pr \\over p+r}$, where  $p = {tp \\over tp+fp} , r = {tp \\over tp+fn}$"
   ]
  },
  {
   "cell_type": "markdown",
   "metadata": {},
   "source": [
    "# Импорт всех необходимых библиотек\n",
    "NumPy - для линейной алгебры</br>\n",
    "Pandas - для работы с csv таблицами</br>\n",
    "sklearn.model_selection.train_test_split - для разбивки нашего датасета на train и valid</br>\n",
    "sklearn.metrics.f1_score - для нашей сетрики F1</br>\n",
    "LAML - модель для предикта"
   ]
  },
  {
   "cell_type": "code",
   "execution_count": null,
   "metadata": {
    "_kg_hide-input": true
   },
   "outputs": [],
   "source": [
    "!pip install -U lightautoml"
   ]
  },
  {
   "cell_type": "code",
   "execution_count": 2,
   "metadata": {
    "execution": {
     "iopub.execute_input": "2022-03-07T22:40:31.661889Z",
     "iopub.status.busy": "2022-03-07T22:40:31.661412Z",
     "iopub.status.idle": "2022-03-07T22:40:31.666166Z",
     "shell.execute_reply": "2022-03-07T22:40:31.665437Z",
     "shell.execute_reply.started": "2022-03-07T22:40:31.661846Z"
    }
   },
   "outputs": [],
   "source": [
    "import numpy as np\n",
    "import pandas as pd \n",
    "\n",
    "import time\n",
    "\n",
    "from sklearn.metrics import f1_score\n",
    "from sklearn.model_selection import train_test_split\n",
    "\n",
    "from lightautoml.automl.presets.tabular_presets import TabularAutoML\n",
    "from lightautoml.tasks import Task"
   ]
  },
  {
   "cell_type": "markdown",
   "metadata": {},
   "source": [
    "Прочитаем данные "
   ]
  },
  {
   "cell_type": "code",
   "execution_count": 4,
   "metadata": {
    "execution": {
     "iopub.execute_input": "2022-03-07T21:47:16.600657Z",
     "iopub.status.busy": "2022-03-07T21:47:16.600223Z",
     "iopub.status.idle": "2022-03-07T21:47:19.406617Z",
     "shell.execute_reply": "2022-03-07T21:47:19.405879Z",
     "shell.execute_reply.started": "2022-03-07T21:47:16.600621Z"
    }
   },
   "outputs": [],
   "source": [
    "df = pd.read_csv('sbermarket-internship-competition/train.csv')\n",
    "submit_df = pd.read_csv('sbermarket-internship-competition/sample_submission.csv')"
   ]
  },
  {
   "cell_type": "markdown",
   "metadata": {},
   "source": [
    "В качестве тренировочных данных представляется датасет с историей заказов 20000 пользователей вплоть до даты отсечки, которая разделяет тренировочные и тестовые данные по времени.\n",
    "\n",
    "train.csv:\n",
    "\n",
    "user_id - уникальный id пользователя\n",
    "order_completed_at - дата заказа\n",
    "cart - список уникальных категорий (category_id), из которых состоял заказ\n",
    "В качестве прогноза необходимо для каждой пары пользователь-категория из примера сабмита вернуть 1, если категория будет присутствовать в следующем заказе пользователя, или 0 в ином случае. Список категорий для каждого пользователя примере сабмита - это все категории, которые он когда-либо заказывал.\n",
    "\n",
    "sample_submission.csv:\n",
    "\n",
    "Пример сабмита. В тест входят не все пользователи из тренировочных данных, так как некоторые из них так ничего и не заказали после даты отсечки.\n",
    "\n",
    "id - идентификатор строки - состоит из user_id и category_id, разделенных точкой с запятой: f'{user_id};{category_id}'. Из-за особенностей проверяющей системы Kaggle InClass, использовать колонки user_id, category_id в качестве индекса отдельно невозможно\n",
    "target - 1 или 0 - будет ли данная категория присутствовать в следующем заказе пользователя"
   ]
  },
  {
   "cell_type": "markdown",
   "metadata": {},
   "source": [
    "Создадим training dataset\n",
    "\n",
    "Необходимые нам столбцы в таблице: id пользователя, категория, счетчик покупок по каждой категории для каждого пользователя, общий счетчик покупок для каждого пользователя, среднее количество каждой категории в покупке клиента, id как в файле для отправки, целевая переменная (последняя известная покупка)\n",
    "\n",
    "Также нужно убрать тех людей, которые не встречаются в submission"
   ]
  },
  {
   "cell_type": "code",
   "execution_count": 23,
   "metadata": {
    "execution": {
     "iopub.execute_input": "2022-03-07T22:24:15.133240Z",
     "iopub.status.busy": "2022-03-07T22:24:15.132547Z",
     "iopub.status.idle": "2022-03-07T22:24:37.539417Z",
     "shell.execute_reply": "2022-03-07T22:24:37.538612Z",
     "shell.execute_reply.started": "2022-03-07T22:24:15.133189Z"
    }
   },
   "outputs": [],
   "source": [
    "# Table with True/False for each cart\n",
    "train_df = pd.get_dummies(df, columns = ['cart'], prefix='', prefix_sep='', dtype='bool')\n",
    "train_df = train_df.groupby(['user_id', 'order_completed_at']).any().reset_index()"
   ]
  },
  {
   "cell_type": "code",
   "execution_count": 24,
   "metadata": {
    "execution": {
     "iopub.execute_input": "2022-03-07T22:26:16.059002Z",
     "iopub.status.busy": "2022-03-07T22:26:16.058625Z",
     "iopub.status.idle": "2022-03-07T22:26:16.204010Z",
     "shell.execute_reply": "2022-03-07T22:26:16.203241Z",
     "shell.execute_reply.started": "2022-03-07T22:26:16.058965Z"
    }
   },
   "outputs": [],
   "source": [
    "# Count all carts and \n",
    "train_df['order_number'] = train_df.groupby(['user_id']).cumcount()\n",
    "train_df = train_df.drop('order_completed_at', axis=1)"
   ]
  },
  {
   "cell_type": "code",
   "execution_count": 25,
   "metadata": {
    "execution": {
     "iopub.execute_input": "2022-03-07T22:26:39.743771Z",
     "iopub.status.busy": "2022-03-07T22:26:39.743051Z",
     "iopub.status.idle": "2022-03-07T22:26:43.444391Z",
     "shell.execute_reply": "2022-03-07T22:26:43.443661Z",
     "shell.execute_reply.started": "2022-03-07T22:26:39.743729Z"
    }
   },
   "outputs": [],
   "source": [
    "# Last order for each user\n",
    "last_order = train_df.groupby(['user_id'])['order_number'].transform(max) == train_df['order_number']\n",
    "train = train_df[~last_order].groupby('user_id').sum().reset_index()\n",
    "valid = train_df[last_order].reset_index(drop=True)"
   ]
  },
  {
   "cell_type": "code",
   "execution_count": 26,
   "metadata": {
    "execution": {
     "iopub.execute_input": "2022-03-07T22:27:43.318644Z",
     "iopub.status.busy": "2022-03-07T22:27:43.317989Z",
     "iopub.status.idle": "2022-03-07T22:27:45.073955Z",
     "shell.execute_reply": "2022-03-07T22:27:45.073175Z",
     "shell.execute_reply.started": "2022-03-07T22:27:43.318601Z"
    }
   },
   "outputs": [],
   "source": [
    "# Counter for each category for each user\n",
    "train_melt = pd.melt(train, id_vars=['user_id'], var_name='category', value_name='ordered')\n",
    "valid_melt = pd.melt(valid, id_vars=['user_id'], var_name='category', value_name='target')"
   ]
  },
  {
   "cell_type": "code",
   "execution_count": 27,
   "metadata": {
    "execution": {
     "iopub.execute_input": "2022-03-07T22:29:05.622667Z",
     "iopub.status.busy": "2022-03-07T22:29:05.622149Z",
     "iopub.status.idle": "2022-03-07T22:29:06.148561Z",
     "shell.execute_reply": "2022-03-07T22:29:06.147802Z",
     "shell.execute_reply.started": "2022-03-07T22:29:05.622628Z"
    }
   },
   "outputs": [],
   "source": [
    "# Total counter for each user\n",
    "Train = train_melt.copy()\n",
    "\n",
    "order_number = valid[['user_id', 'order_number']].set_index('user_id').squeeze()\n",
    "Train['orders_total']= Train['user_id'].map(order_number)"
   ]
  },
  {
   "cell_type": "code",
   "execution_count": 28,
   "metadata": {
    "execution": {
     "iopub.execute_input": "2022-03-07T22:29:42.492504Z",
     "iopub.status.busy": "2022-03-07T22:29:42.492240Z",
     "iopub.status.idle": "2022-03-07T22:29:42.614176Z",
     "shell.execute_reply": "2022-03-07T22:29:42.613303Z",
     "shell.execute_reply.started": "2022-03-07T22:29:42.492475Z"
    }
   },
   "outputs": [],
   "source": [
    "# avg of each category\n",
    "Train['rating'] = Train['ordered'] / Train['orders_total']"
   ]
  },
  {
   "cell_type": "code",
   "execution_count": 29,
   "metadata": {
    "execution": {
     "iopub.execute_input": "2022-03-07T22:30:04.800068Z",
     "iopub.status.busy": "2022-03-07T22:30:04.799553Z",
     "iopub.status.idle": "2022-03-07T22:30:26.538280Z",
     "shell.execute_reply": "2022-03-07T22:30:26.537379Z",
     "shell.execute_reply.started": "2022-03-07T22:30:04.800008Z"
    }
   },
   "outputs": [],
   "source": [
    "# user_id / category like a submission file\n",
    "Train['id'] = Train['user_id'].astype(str) + ';' + Train['category']"
   ]
  },
  {
   "cell_type": "code",
   "execution_count": 30,
   "metadata": {
    "execution": {
     "iopub.execute_input": "2022-03-07T22:30:48.092178Z",
     "iopub.status.busy": "2022-03-07T22:30:48.091618Z",
     "iopub.status.idle": "2022-03-07T22:30:49.548208Z",
     "shell.execute_reply": "2022-03-07T22:30:49.547479Z",
     "shell.execute_reply.started": "2022-03-07T22:30:48.092133Z"
    }
   },
   "outputs": [],
   "source": [
    "# Do we know about the previous purchase\n",
    "Train['target'] = valid_melt['target'].astype(int)"
   ]
  },
  {
   "cell_type": "code",
   "execution_count": 32,
   "metadata": {
    "execution": {
     "iopub.execute_input": "2022-03-07T22:32:11.025983Z",
     "iopub.status.busy": "2022-03-07T22:32:11.025351Z",
     "iopub.status.idle": "2022-03-07T22:32:19.869470Z",
     "shell.execute_reply": "2022-03-07T22:32:19.868512Z",
     "shell.execute_reply.started": "2022-03-07T22:32:11.025946Z"
    }
   },
   "outputs": [],
   "source": [
    "# Remove those users who are not in the submission file\n",
    "Train = Train[Train.id.isin(submit_df.id.unique())].reset_index(drop=True)"
   ]
  },
  {
   "cell_type": "code",
   "execution_count": 33,
   "metadata": {
    "execution": {
     "iopub.execute_input": "2022-03-07T22:33:42.882615Z",
     "iopub.status.busy": "2022-03-07T22:33:42.881999Z",
     "iopub.status.idle": "2022-03-07T22:33:42.990429Z",
     "shell.execute_reply": "2022-03-07T22:33:42.989716Z",
     "shell.execute_reply.started": "2022-03-07T22:33:42.882578Z"
    }
   },
   "outputs": [],
   "source": [
    "# Counter by all user \n",
    "total_ordered = Train.groupby('category')['ordered'].sum()\n",
    "Train['total_ordered'] = Train['category'].map(total_ordered)"
   ]
  },
  {
   "cell_type": "code",
   "execution_count": 35,
   "metadata": {
    "execution": {
     "iopub.execute_input": "2022-03-07T22:35:18.591626Z",
     "iopub.status.busy": "2022-03-07T22:35:18.590824Z",
     "iopub.status.idle": "2022-03-07T22:35:18.603315Z",
     "shell.execute_reply": "2022-03-07T22:35:18.602455Z",
     "shell.execute_reply.started": "2022-03-07T22:35:18.591574Z"
    }
   },
   "outputs": [],
   "source": [
    "# Let check our Train dataset\n",
    "Train.head()"
   ]
  },
  {
   "cell_type": "markdown",
   "metadata": {},
   "source": [
    "А теперь создадим Тrain, на котрый надо сдеалть предикт"
   ]
  },
  {
   "cell_type": "code",
   "execution_count": 44,
   "metadata": {
    "execution": {
     "iopub.execute_input": "2022-03-07T22:52:05.737091Z",
     "iopub.status.busy": "2022-03-07T22:52:05.736481Z",
     "iopub.status.idle": "2022-03-07T22:52:05.972508Z",
     "shell.execute_reply": "2022-03-07T22:52:05.971706Z",
     "shell.execute_reply.started": "2022-03-07T22:52:05.737048Z"
    }
   },
   "outputs": [],
   "source": [
    "Test = Train.copy()\n",
    "\n",
    "\n",
    "Test['orders_total'] += 1 \n",
    "\n",
    "#add last buy\n",
    "Test['ordered'] = Test['ordered'] + Test['target']\n",
    "\n",
    "#recalculate\n",
    "test_total_ordered = Test.groupby('category')['ordered'].sum()\n",
    "Test['total_ordered'] = Test['category'].map(test_total_ordered)\n",
    "Test['rating'] = Test['ordered'] / Test['orders_total']\n",
    "\n",
    "Test = Test.drop('target', axis=1)"
   ]
  },
  {
   "cell_type": "code",
   "execution_count": 45,
   "metadata": {
    "execution": {
     "iopub.execute_input": "2022-03-07T22:52:38.522741Z",
     "iopub.status.busy": "2022-03-07T22:52:38.522462Z",
     "iopub.status.idle": "2022-03-07T22:52:38.534232Z",
     "shell.execute_reply": "2022-03-07T22:52:38.533337Z",
     "shell.execute_reply.started": "2022-03-07T22:52:38.522711Z"
    }
   },
   "outputs": [],
   "source": [
    "# Check our Testing dataset\n",
    "Test.head()"
   ]
  },
  {
   "cell_type": "markdown",
   "metadata": {},
   "source": [
    "Разделим наши данные на Train и Valid (для валидации 20% и перемешаем наши данные)"
   ]
  },
  {
   "cell_type": "code",
   "execution_count": 38,
   "metadata": {
    "execution": {
     "iopub.execute_input": "2022-03-07T22:40:35.361466Z",
     "iopub.status.busy": "2022-03-07T22:40:35.360897Z",
     "iopub.status.idle": "2022-03-07T22:40:35.520242Z",
     "shell.execute_reply": "2022-03-07T22:40:35.519434Z",
     "shell.execute_reply.started": "2022-03-07T22:40:35.361430Z"
    }
   },
   "outputs": [],
   "source": [
    "Train_set, Valid_set = train_test_split(Train, test_size = 0.2,\n",
    "                                        stratify = None, random_state = 15)"
   ]
  },
  {
   "cell_type": "markdown",
   "metadata": {},
   "source": [
    "Инициализируем функцию для подсчета F1"
   ]
  },
  {
   "cell_type": "code",
   "execution_count": 39,
   "metadata": {
    "execution": {
     "iopub.execute_input": "2022-03-07T22:42:28.016682Z",
     "iopub.status.busy": "2022-03-07T22:42:28.016102Z",
     "iopub.status.idle": "2022-03-07T22:42:28.021748Z",
     "shell.execute_reply": "2022-03-07T22:42:28.021089Z",
     "shell.execute_reply.started": "2022-03-07T22:42:28.016644Z"
    }
   },
   "outputs": [],
   "source": [
    "def f1 (real, pred, **kwargs):\n",
    "    return f1_score(real, (pred > 0.5).astype(int), **kwargs)"
   ]
  },
  {
   "cell_type": "markdown",
   "metadata": {},
   "source": [
    "Постром нашу модель"
   ]
  },
  {
   "cell_type": "code",
   "execution_count": 43,
   "metadata": {
    "execution": {
     "iopub.execute_input": "2022-03-07T22:47:43.915422Z",
     "iopub.status.busy": "2022-03-07T22:47:43.914657Z",
     "iopub.status.idle": "2022-03-07T22:48:03.239665Z",
     "shell.execute_reply": "2022-03-07T22:48:03.238703Z",
     "shell.execute_reply.started": "2022-03-07T22:47:43.915379Z"
    }
   },
   "outputs": [],
   "source": [
    "%%time \n",
    "\n",
    "automl = TabularAutoML(task = Task('binary', metric = f1), \n",
    "                       cpu_limit = 4,\n",
    "                       reader_params = {'n_jobs': 4, 'cv': 5, 'random_state': 15},\n",
    "                       general_params = {'use_algos': [['linear_l2']]},\n",
    "                      )\n",
    "train_pred = automl.fit_predict(Train_set, \n",
    "                                roles = {'target': 'target', 'drop': ['user_id', 'category', 'id']})\n",
    "print('Score on Train', \"%.5f\" % f1(Train_set.target, train_pred.data))\n",
    "\n",
    "valid_pred = automl.predict(Valid_set)\n",
    "print('Score on Valid', \"%.5f\" % f1(Valid_set.target, valid_pred.data))"
   ]
  },
  {
   "cell_type": "markdown",
   "metadata": {},
   "source": [
    "Поссмотрим на наши предсказания"
   ]
  },
  {
   "cell_type": "code",
   "execution_count": 47,
   "metadata": {
    "execution": {
     "iopub.execute_input": "2022-03-07T22:55:03.288776Z",
     "iopub.status.busy": "2022-03-07T22:55:03.288511Z",
     "iopub.status.idle": "2022-03-07T22:55:05.824703Z",
     "shell.execute_reply": "2022-03-07T22:55:05.823129Z",
     "shell.execute_reply.started": "2022-03-07T22:55:03.288745Z"
    }
   },
   "outputs": [],
   "source": [
    "predictions = automl.predict(Test)\n",
    "print('Train mean:', \"%.5f\" % Train.target.mean())\n",
    "print('Test mean:', \"%.5f\" % (predictions.data > 0.5).astype(int).mean())"
   ]
  },
  {
   "cell_type": "markdown",
   "metadata": {},
   "source": [
    "Значения не подходят, значит надо попробовать поменять пороговое значение"
   ]
  },
  {
   "cell_type": "code",
   "execution_count": 48,
   "metadata": {
    "execution": {
     "iopub.execute_input": "2022-03-07T22:58:18.079860Z",
     "iopub.status.busy": "2022-03-07T22:58:18.077072Z",
     "iopub.status.idle": "2022-03-07T22:58:18.200456Z",
     "shell.execute_reply": "2022-03-07T22:58:18.199674Z",
     "shell.execute_reply.started": "2022-03-07T22:58:18.079809Z"
    }
   },
   "outputs": [],
   "source": [
    "th = 0.5\n",
    "train_mean = Train.target.mean()\n",
    "test_mean = (predictions.data > th).astype(int).mean()\n",
    "\n",
    "while test_mean < train_mean:\n",
    "    th -= 0.005\n",
    "    test_mean = (predictions.data > th).astype(int).mean()\n",
    "    \n",
    "print('Threshold:', \"%.4f\" % th)\n",
    "print('Train mean:', \"%.5f\" % train_mean)\n",
    "print('New Test mean:', \"%.5f\" % test_mean)"
   ]
  },
  {
   "cell_type": "markdown",
   "metadata": {},
   "source": [
    "Как мы видим оптимальное пороговое значение = 0.24 и среднее на Train-е увеличилось.\n",
    "\n",
    "Можем сделать последнее предсказание и отправлять решение."
   ]
  },
  {
   "cell_type": "code",
   "execution_count": 50,
   "metadata": {
    "execution": {
     "iopub.execute_input": "2022-03-07T23:01:30.117944Z",
     "iopub.status.busy": "2022-03-07T23:01:30.117445Z",
     "iopub.status.idle": "2022-03-07T23:01:31.984924Z",
     "shell.execute_reply": "2022-03-07T23:01:31.984168Z",
     "shell.execute_reply.started": "2022-03-07T23:01:30.117908Z"
    }
   },
   "outputs": [],
   "source": [
    "Test['target'] = (predictions.data > th).astype(int)\n",
    "submit_file = pd.merge(submit_df['id'], Test[['id', 'target']], on='id')\n",
    "submit_file.to_csv('submission.csv', index = False)"
   ]
  },
  {
   "cell_type": "markdown",
   "metadata": {},
   "source": [
    "Это было сделано для соревнования от СберМаркета https://www.kaggle.com/c/sbermarket-internship-competition </br>\n",
    "Место в зачете 14 с Score: 0.48679\n",
    "<img src=\"leaderboard.png\" />"
   ]
  }
 ],
 "metadata": {
  "kernelspec": {
   "display_name": "Python 3 (ipykernel)",
   "language": "python",
   "name": "python3"
  },
  "language_info": {
   "codemirror_mode": {
    "name": "ipython",
    "version": 3
   },
   "file_extension": ".py",
   "mimetype": "text/x-python",
   "name": "python",
   "nbconvert_exporter": "python",
   "pygments_lexer": "ipython3",
   "version": "3.9.7"
  }
 },
 "nbformat": 4,
 "nbformat_minor": 4
}
